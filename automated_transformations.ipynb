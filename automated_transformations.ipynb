{
 "cells": [
  {
   "cell_type": "code",
   "execution_count": 2,
   "metadata": {},
   "outputs": [],
   "source": [
    "import collections\n",
    "import pathlib\n",
    "# データ処理周り\n",
    "import numpy as np\n",
    "import pandas as pd\n",
    "from IPython.core.display import display\n",
    "# 可視化ライブラリ\n",
    "import matplotlib.pyplot as plt\n",
    "from matplotlib import cm # colormap\n",
    "import seaborn as sns\n",
    "%matplotlib inline\n",
    "# pandasのwarningが邪魔なので\n",
    "import warnings\n",
    "warnings.filterwarnings('ignore')\n",
    "# options\n",
    "# pd.set_option('display.max_columns', 50)\n",
    "plt.style.use('ggplot')\n",
    "\n",
    "import tensorflow as tf\n",
    "import edward as ed\n",
    "import tensorflow.contrib.distributions as ds\n",
    "from edward.models import Normal, MultivariateNormalFullCovariance, MultivariateNormalTriL, PointMass, Empirical, Gamma\n",
    "from tensorflow.contrib.distributions import bijectors\n",
    "from edward.util import rbf"
   ]
  },
  {
   "cell_type": "code",
   "execution_count": null,
   "metadata": {},
   "outputs": [],
   "source": []
  }
 ],
 "metadata": {
  "kernelspec": {
   "display_name": "Python 3",
   "language": "python",
   "name": "python3"
  },
  "language_info": {
   "codemirror_mode": {
    "name": "ipython",
    "version": 3
   },
   "file_extension": ".py",
   "mimetype": "text/x-python",
   "name": "python",
   "nbconvert_exporter": "python",
   "pygments_lexer": "ipython3",
   "version": "3.6.3"
  }
 },
 "nbformat": 4,
 "nbformat_minor": 2
}
